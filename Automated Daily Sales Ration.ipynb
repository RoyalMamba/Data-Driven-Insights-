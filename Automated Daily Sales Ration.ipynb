{
 "cells": [
  {
   "cell_type": "code",
   "execution_count": 1,
   "metadata": {
    "scrolled": true
   },
   "outputs": [],
   "source": [
    "import os\n",
    "import time\n",
    "import pandas as pd\n",
    "from time import sleep\n",
    "from datetime import datetime\n",
    "from selenium import webdriver\n",
    "from selenium.webdriver.common.by import By\n",
    "from selenium.webdriver.support.select import Select\n",
    "from selenium.webdriver.support import expected_conditions as EC\n",
    "# from selenium.common.exceptions import TimeoutException\n",
    "from selenium.webdriver.support.ui import WebDriverWait\n",
    "from selenium.webdriver.common.action_chains import ActionChains\n",
    "from selenium.webdriver import ChromeOptions\n",
    "# from selenium.webdriver import EdgeOptions\n",
    "\n",
    "time1 = time.time()\n",
    "driver = webdriver.Chrome()\n",
    "\n",
    "# op = webdriver.ChromeOptions()\n",
    "# op.add_argument('headless')\n",
    "# driver = webdriver.Chrome(options = op)\n",
    "\n",
    "# op = webdriver.EdgeOptions()\n",
    "# op.add_argument('headless')\n",
    "# driver = webdriver.Edge(options = op)\n",
    "\n",
    "\n",
    "driver.get('http://mahaepos.gov.in/AbstractTransReport.jsp')\n",
    "\n",
    "driver.maximize_window()\n",
    "# sleep(1)\n",
    "\n",
    "Eregion = WebDriverWait(driver, 15).until(EC.presence_of_element_located((By.LINK_TEXT, \"E Region Wadala\")))\n",
    "\n",
    "# we are doing this because our element was unable to click\n",
    "scroll_to_region = driver.find_element(By.LINK_TEXT , 'Kolhapur')\n",
    "actions = ActionChains(driver)\n",
    "actions.move_to_element(scroll_to_region).perform()\n",
    "\n",
    "Eregion.click()\n",
    "\n",
    "Govandi = WebDriverWait(driver, 10).until(EC.presence_of_element_located((By.LINK_TEXT , '44 E GOVANDI')))\n",
    "\n",
    "# actions.move_to_element(Govandi).perform()\n",
    "\n",
    "\n",
    "sleep(0.5)\n",
    "\n",
    "Govandi.click()\n",
    "\n",
    "scroll_to_shop = WebDriverWait(driver , 10).until(EC.presence_of_element_located((By.LINK_TEXT , '251832900172')))\n",
    "\n",
    "sleep(0.5)\n",
    "# actions = ActionChains(driver)  #ALREADY IMPORTED ABOVE\n",
    "actions.move_to_element(scroll_to_shop).perform()\n",
    "\n",
    "SHOPnumber = WebDriverWait(driver , 10).until(EC.presence_of_element_located((By.LINK_TEXT , '251832900166')))\n",
    "\n",
    "SHOPnumber.click()\n",
    "\n",
    "Perpage  = WebDriverWait(driver , 10).until(EC.presence_of_element_located((By.XPATH , '/html/body/div/div[3]/div/div[3]/div[3]/div[2]/div[2]/div/div/div[3]/label/select')))\n",
    "\n",
    "Perpage = Select(Perpage)\n",
    "\n",
    "Perpage.select_by_visible_text('All')\n",
    "\n",
    "driver.find_element(By.XPATH , \"/html/body/div/div[3]/div/div[3]/div[3]/div[2]/div[2]/div/div/div[1]/a[3]\").click()\n",
    "\n",
    "\n",
    "\n",
    "# table = driver.find_elements(By.XPATH , '/html/body/div/div[3]/div/div[3]/div[3]/div[2]/div[2]/div/div/table/tbody/tr')\n",
    "\n",
    "# len(table)\n",
    "\n",
    "rationpage = driver.page_source\n",
    "\n",
    "pd.set_option('display.max_columns' , None)\n",
    "\n",
    "# df = pd.DataFrame((table[0].text).split()).T\n",
    "\n",
    "# for i in range(len(table)):\n",
    "#     if i == 0 :\n",
    "#         continue \n",
    "#     else :\n",
    "#         df.loc[i , :] = (table[i].text).split()\n",
    "\n",
    "df = pd.read_html(rationpage )[1]\n",
    "\n",
    "# df.head(0)\n",
    "\n",
    "column_names = 'Sl No,SRC No,Scheme,Avail Type,Receipt No,Date,Wheat (Kgs),Rice (Kgs),Sugar (Kgs),Foodgrain Kit (PKTS),K Oil (Kgs),Maize (Kgs),Jowar (Kgs),Bajra (Kgs),Ragi (Kgs),Wheat-PMGKAY (Kgs),Rice-PMGKAY (Kgs),FRice (Kgs),Fest Sugar (PKTS),Fest POil (PKTS),Fest Rava (PKTS),Fest Bag (PKTS),Fest Chana Dal ,Amount (Rs.),Portability,Auth Trans Time'.split(',')\n",
    "\n",
    "df.columns = column_names\n",
    "df.set_index('Date' , inplace=True)\n",
    "df.drop(index = 'Total' , inplace= True )\n",
    "df.index = df.index.map(lambda x : datetime.strptime(x, '%Y-%m-%d %H:%S'))\n",
    "\n",
    "dailysales = df.resample('D')['Wheat (Kgs)' ,'Rice (Kgs)' , 'Wheat-PMGKAY (Kgs)' , 'Rice-PMGKAY (Kgs)' ].sum()\n",
    "dailysales = dailysales.merge(df.resample('D')['Wheat (Kgs)'].count().rename('Sale Count') , on='Date')\n",
    "dailysales.index = dailysales.index.map(str).map(lambda x : x[0:11])\n",
    "dailysales.loc[-1] = dailysales.sum()\n",
    "dailysales.rename(index = {-1 :'Total'} , inplace = True)\n"
   ]
  },
  {
   "cell_type": "code",
   "execution_count": 2,
   "metadata": {},
   "outputs": [],
   "source": [
    "# dailysales.astype('int').to_excel('dailysales.xlsx')"
   ]
  },
  {
   "cell_type": "code",
   "execution_count": 3,
   "metadata": {},
   "outputs": [],
   "source": [
    "# dailysales.astype('int')"
   ]
  },
  {
   "cell_type": "code",
   "execution_count": 4,
   "metadata": {},
   "outputs": [],
   "source": [
    "remaningcards = pd.read_excel(r\"C:\\Users\\ysaur\\Desktop\\FSDS\\007 Pandas\\Pandas revision\\datasets\\remaningcards.xlsx\" )"
   ]
  },
  {
   "cell_type": "code",
   "execution_count": 5,
   "metadata": {},
   "outputs": [],
   "source": [
    "yetTOcome = remaningcards[remaningcards['SRC No'].isin(df['SRC No'].astype('float'))==False].sort_values(by = 'REF').fillna(0).astype('int64').reset_index(drop = True)"
   ]
  },
  {
   "cell_type": "code",
   "execution_count": 6,
   "metadata": {},
   "outputs": [],
   "source": [
    "# pd.set_option('display.max_rows' , None)"
   ]
  },
  {
   "cell_type": "code",
   "execution_count": 7,
   "metadata": {},
   "outputs": [],
   "source": [
    "# yetTOcome"
   ]
  },
  {
   "cell_type": "code",
   "execution_count": 8,
   "metadata": {},
   "outputs": [],
   "source": [
    "df = df[(df['Foodgrain Kit (PKTS)'] == 1)== False ]\n",
    "#We did this here to exclude all the food kits that were sold seperately , remove it when the foodkit column disappears\n",
    "\n",
    "yetTOcome = remaningcards[remaningcards['SRC No'].isin(df['SRC No'].astype('float'))==False].sort_values(by = 'REF').fillna(0).astype('int64').reset_index(drop = True)"
   ]
  },
  {
   "cell_type": "code",
   "execution_count": 9,
   "metadata": {},
   "outputs": [],
   "source": [
    "monthstring = datetime.now()\n",
    "year = monthstring.strftime('%Y')\n",
    "monthstring = monthstring.strftime('_%m_%Y.xlsx')\n",
    "savepath = r'C:\\Users\\ysaur\\OneDrive\\Ration\\Daily sales\\ds_excel/'\n",
    "directory = os.path.exists(savepath+year)\n",
    "if not directory:\n",
    "    os.mkdir(savepath+year)\n",
    "\n",
    "filepath = savepath+year+'/Dailysales'+ monthstring \n",
    "# filepath = savepath + 'Dailysales' + '_12_2022.xlsx'"
   ]
  },
  {
   "cell_type": "code",
   "execution_count": 11,
   "metadata": {},
   "outputs": [],
   "source": [
    "with pd.ExcelWriter(filepath) as writer:\n",
    "    dailysales.astype('int').to_excel(writer, sheet_name='dailysales')\n",
    "    yetTOcome.to_excel(writer, sheet_name='remaining_cards' , index = False)\n"
   ]
  },
  {
   "cell_type": "code",
   "execution_count": 17,
   "metadata": {},
   "outputs": [
    {
     "name": "stdout",
     "output_type": "stream",
     "text": [
      "875.4\n"
     ]
    }
   ],
   "source": [
    "# driver.close()\n",
    "time2 = time.time()\n",
    "print(f'{time2-time1:.1f}')"
   ]
  },
  {
   "cell_type": "code",
   "execution_count": 13,
   "metadata": {},
   "outputs": [],
   "source": [
    "# k = [1,2,3,4, 'saurabh' , 'gaurav' , 'renu' , 'rajaram' , 22,32,['list' , 'inside' , 'list' , ['one' , 4, 5 ,7 ,'nested']] ,  'blank' , \n",
    "#     ['hello',[11,'fdfdfd' , 443434, 777676,[121212,'saurabh']],3,3,333 , ['hell' ,444, 'hel' , ['deeplist' , [5555,5,5,2,2,[22]]]]] , ['emptylist' , 'string' , [1,2,3]]]"
   ]
  },
  {
   "cell_type": "code",
   "execution_count": 14,
   "metadata": {},
   "outputs": [],
   "source": [
    "# def flattenlist(array:list):\n",
    "#     emptyarray = []\n",
    "#     def travellist(array):\n",
    "#         for element in array:\n",
    "#             if type(element) == list:\n",
    "#                 travellist(element)\n",
    "#             elif type(element) == int :\n",
    "#                 emptyarray.append(element)\n",
    "#     travellist(array)\n",
    "#     return emptyarray"
   ]
  },
  {
   "cell_type": "code",
   "execution_count": 15,
   "metadata": {},
   "outputs": [],
   "source": [
    "# rationpage = driver.page_source\n",
    "\n",
    "# pd.set_option('display.max_columns' , None)\n",
    "\n",
    "# # df = pd.DataFrame((table[0].text).split()).T\n",
    "\n",
    "# # for i in range(len(table)):\n",
    "# #     if i == 0 :\n",
    "# #         continue \n",
    "# #     else :\n",
    "# #         df.loc[i , :] = (table[i].text).split()\n",
    "\n",
    "# df = pd.read_html(rationpage )[1]\n",
    "\n",
    "# # df.head(0)\n",
    "\n",
    "# column_names = 'Sl No,SRC No,Scheme,Avail Type,Receipt No,Date,Wheat (Kgs),Rice (Kgs),Sugar (Kgs),Foodgrain Kit (PKTS),K Oil (Kgs),Maize (Kgs),Jowar (Kgs),Bajra (Kgs),Ragi (Kgs),Wheat-PMGKAY (Kgs),Rice-PMGKAY (Kgs),FRice (Kgs),Fest Sugar (PKTS),Fest POil (PKTS),Fest Rava (PKTS),Fest Bag (PKTS),Fest Chana Dal ,Amount (Rs.),Portability,Auth Trans Time'.split(',')\n",
    "\n",
    "# df.columns = column_names\n",
    "# df.set_index('Date' , inplace=True)\n",
    "# df.drop(index = 'Total' , inplace= True )\n",
    "# df.index = df.index.map(lambda x : datetime.strptime(x, '%Y-%m-%d %H:%S'))\n",
    "\n",
    "# dailysales = df.resample('D')['Wheat (Kgs)' ,'Rice (Kgs)' , 'Wheat-PMGKAY (Kgs)' , 'Rice-PMGKAY (Kgs)' ].sum()\n",
    "# dailysales = dailysales.merge(df.resample('D')['Wheat (Kgs)'].count().rename('Sale Count') , on='Date')\n",
    "# dailysales.index = dailysales.index.map(str).map(lambda x : x[0:11])\n",
    "# dailysales.loc[-1] = dailysales.sum()\n",
    "# dailysales.rename(index = {-1 :'Total'} , inplace = True)"
   ]
  },
  {
   "cell_type": "code",
   "execution_count": null,
   "metadata": {},
   "outputs": [],
   "source": []
  }
 ],
 "metadata": {
  "kernelspec": {
   "display_name": "Python 3",
   "language": "python",
   "name": "python3"
  },
  "language_info": {
   "codemirror_mode": {
    "name": "ipython",
    "version": 3
   },
   "file_extension": ".py",
   "mimetype": "text/x-python",
   "name": "python",
   "nbconvert_exporter": "python",
   "pygments_lexer": "ipython3",
   "version": "3.8.5"
  }
 },
 "nbformat": 4,
 "nbformat_minor": 4
}
